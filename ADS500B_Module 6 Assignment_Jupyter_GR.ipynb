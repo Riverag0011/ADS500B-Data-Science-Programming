{
 "cells": [
  {
   "cell_type": "code",
   "execution_count": 1,
   "id": "428279ee",
   "metadata": {},
   "outputs": [],
   "source": [
    "#Gabi Rivera\n",
    "#ADS500B\n",
    "#06Aug2022\n",
    "\n",
    "#Module 6 Assignment\n",
    "\n",
    "#Question 1\n",
    "#import libraries\n",
    "\n",
    "import pandas as pd\n",
    "import statsmodels.api as sm\n",
    "import statsmodels.formula.api as smf\n",
    "import matplotlib.pyplot as plt"
   ]
  },
  {
   "cell_type": "code",
   "execution_count": 2,
   "id": "9b97189a",
   "metadata": {},
   "outputs": [
    {
     "data": {
      "text/plain": [
       "'/Users/gabirivera/Desktop/MSADS1/ADS500B/Module6'"
      ]
     },
     "execution_count": 2,
     "metadata": {},
     "output_type": "execute_result"
    }
   ],
   "source": [
    "#check current folder or location\n",
    "\n",
    "%pwd"
   ]
  },
  {
   "cell_type": "code",
   "execution_count": 3,
   "id": "8eef8c8e",
   "metadata": {
    "scrolled": true
   },
   "outputs": [
    {
     "data": {
      "text/html": [
       "<div>\n",
       "<style scoped>\n",
       "    .dataframe tbody tr th:only-of-type {\n",
       "        vertical-align: middle;\n",
       "    }\n",
       "\n",
       "    .dataframe tbody tr th {\n",
       "        vertical-align: top;\n",
       "    }\n",
       "\n",
       "    .dataframe thead th {\n",
       "        text-align: right;\n",
       "    }\n",
       "</style>\n",
       "<table border=\"1\" class=\"dataframe\">\n",
       "  <thead>\n",
       "    <tr style=\"text-align: right;\">\n",
       "      <th></th>\n",
       "      <th>Airline</th>\n",
       "      <th>FlightLength</th>\n",
       "      <th>PlaneSpeed</th>\n",
       "      <th>DailyFlightTime</th>\n",
       "      <th>CustomersServed</th>\n",
       "      <th>TotalOperatingCost</th>\n",
       "      <th>Revenue</th>\n",
       "      <th>LoadFactor</th>\n",
       "      <th>AvailableCapacity</th>\n",
       "      <th>TotalAssets</th>\n",
       "      <th>Investments</th>\n",
       "      <th>AdjustedAssets</th>\n",
       "    </tr>\n",
       "  </thead>\n",
       "  <tbody>\n",
       "    <tr>\n",
       "      <th>0</th>\n",
       "      <td>All-American</td>\n",
       "      <td>57</td>\n",
       "      <td>133</td>\n",
       "      <td>6.10</td>\n",
       "      <td>20200</td>\n",
       "      <td>116.3</td>\n",
       "      <td>0.96</td>\n",
       "      <td>0.400</td>\n",
       "      <td>2.400</td>\n",
       "      <td>21.13</td>\n",
       "      <td>3.21</td>\n",
       "      <td>17.92</td>\n",
       "    </tr>\n",
       "    <tr>\n",
       "      <th>1</th>\n",
       "      <td>American</td>\n",
       "      <td>270</td>\n",
       "      <td>216</td>\n",
       "      <td>6.93</td>\n",
       "      <td>56928</td>\n",
       "      <td>43.0</td>\n",
       "      <td>3.98</td>\n",
       "      <td>0.689</td>\n",
       "      <td>5.776</td>\n",
       "      <td>1436.53</td>\n",
       "      <td>165.22</td>\n",
       "      <td>1271.31</td>\n",
       "    </tr>\n",
       "    <tr>\n",
       "      <th>2</th>\n",
       "      <td>Bonanza</td>\n",
       "      <td>100</td>\n",
       "      <td>140</td>\n",
       "      <td>4.45</td>\n",
       "      <td>183</td>\n",
       "      <td>141.5</td>\n",
       "      <td>0.79</td>\n",
       "      <td>0.358</td>\n",
       "      <td>2.207</td>\n",
       "      <td>6.65</td>\n",
       "      <td>0.01</td>\n",
       "      <td>6.64</td>\n",
       "    </tr>\n",
       "    <tr>\n",
       "      <th>3</th>\n",
       "      <td>Braniff</td>\n",
       "      <td>176</td>\n",
       "      <td>182</td>\n",
       "      <td>6.60</td>\n",
       "      <td>11869</td>\n",
       "      <td>50.6</td>\n",
       "      <td>2.57</td>\n",
       "      <td>0.557</td>\n",
       "      <td>4.614</td>\n",
       "      <td>160.30</td>\n",
       "      <td>5.81</td>\n",
       "      <td>154.49</td>\n",
       "    </tr>\n",
       "    <tr>\n",
       "      <th>4</th>\n",
       "      <td>Capital</td>\n",
       "      <td>142</td>\n",
       "      <td>167</td>\n",
       "      <td>7.47</td>\n",
       "      <td>41097</td>\n",
       "      <td>51.0</td>\n",
       "      <td>2.68</td>\n",
       "      <td>0.510</td>\n",
       "      <td>5.255</td>\n",
       "      <td>195.02</td>\n",
       "      <td>6.06</td>\n",
       "      <td>188.96</td>\n",
       "    </tr>\n",
       "  </tbody>\n",
       "</table>\n",
       "</div>"
      ],
      "text/plain": [
       "        Airline  FlightLength  PlaneSpeed  DailyFlightTime  CustomersServed  \\\n",
       "0  All-American            57         133             6.10            20200   \n",
       "1      American           270         216             6.93            56928   \n",
       "2       Bonanza           100         140             4.45              183   \n",
       "3       Braniff           176         182             6.60            11869   \n",
       "4       Capital           142         167             7.47            41097   \n",
       "\n",
       "   TotalOperatingCost  Revenue  LoadFactor  AvailableCapacity  TotalAssets  \\\n",
       "0               116.3     0.96       0.400              2.400        21.13   \n",
       "1                43.0     3.98       0.689              5.776      1436.53   \n",
       "2               141.5     0.79       0.358              2.207         6.65   \n",
       "3                50.6     2.57       0.557              4.614       160.30   \n",
       "4                51.0     2.68       0.510              5.255       195.02   \n",
       "\n",
       "   Investments  AdjustedAssets  \n",
       "0         3.21           17.92  \n",
       "1       165.22         1271.31  \n",
       "2         0.01            6.64  \n",
       "3         5.81          154.49  \n",
       "4         6.06          188.96  "
      ]
     },
     "execution_count": 3,
     "metadata": {},
     "output_type": "execute_result"
    }
   ],
   "source": [
    "#import airline_cost.csv file\n",
    "\n",
    "ac = pd.read_csv('airline_costs.csv', sep = ',')\n",
    "ac.head(5)"
   ]
  },
  {
   "cell_type": "code",
   "execution_count": 4,
   "id": "77b7ca00",
   "metadata": {
    "scrolled": true
   },
   "outputs": [
    {
     "name": "stdout",
     "output_type": "stream",
     "text": [
      "<class 'pandas.core.frame.DataFrame'>\n",
      "RangeIndex: 31 entries, 0 to 30\n",
      "Data columns (total 12 columns):\n",
      " #   Column              Non-Null Count  Dtype  \n",
      "---  ------              --------------  -----  \n",
      " 0   Airline             31 non-null     object \n",
      " 1   FlightLength        31 non-null     int64  \n",
      " 2   PlaneSpeed          31 non-null     int64  \n",
      " 3   DailyFlightTime     31 non-null     float64\n",
      " 4   CustomersServed     31 non-null     int64  \n",
      " 5   TotalOperatingCost  31 non-null     float64\n",
      " 6   Revenue             31 non-null     float64\n",
      " 7   LoadFactor          31 non-null     float64\n",
      " 8   AvailableCapacity   31 non-null     float64\n",
      " 9   TotalAssets         31 non-null     float64\n",
      " 10  Investments         31 non-null     float64\n",
      " 11  AdjustedAssets      31 non-null     float64\n",
      "dtypes: float64(8), int64(3), object(1)\n",
      "memory usage: 3.0+ KB\n"
     ]
    }
   ],
   "source": [
    "#general ac information so see NAs, Dtype, records, and variables\n",
    "\n",
    "ac.info()\n",
    "\n",
    "#observations:\n",
    "    #no null values"
   ]
  },
  {
   "cell_type": "code",
   "execution_count": 5,
   "id": "2a480b08",
   "metadata": {
    "scrolled": false
   },
   "outputs": [
    {
     "data": {
      "text/html": [
       "<div>\n",
       "<style scoped>\n",
       "    .dataframe tbody tr th:only-of-type {\n",
       "        vertical-align: middle;\n",
       "    }\n",
       "\n",
       "    .dataframe tbody tr th {\n",
       "        vertical-align: top;\n",
       "    }\n",
       "\n",
       "    .dataframe thead th {\n",
       "        text-align: right;\n",
       "    }\n",
       "</style>\n",
       "<table border=\"1\" class=\"dataframe\">\n",
       "  <thead>\n",
       "    <tr style=\"text-align: right;\">\n",
       "      <th></th>\n",
       "      <th>FlightLength</th>\n",
       "      <th>DailyFlightTime</th>\n",
       "      <th>CustomersServed</th>\n",
       "      <th>TotalAssets</th>\n",
       "    </tr>\n",
       "  </thead>\n",
       "  <tbody>\n",
       "    <tr>\n",
       "      <th>count</th>\n",
       "      <td>31.000000</td>\n",
       "      <td>31.000000</td>\n",
       "      <td>31.000000</td>\n",
       "      <td>31.000000</td>\n",
       "    </tr>\n",
       "    <tr>\n",
       "      <th>mean</th>\n",
       "      <td>129.096774</td>\n",
       "      <td>6.463226</td>\n",
       "      <td>14491.967742</td>\n",
       "      <td>215.310968</td>\n",
       "    </tr>\n",
       "    <tr>\n",
       "      <th>std</th>\n",
       "      <td>73.212638</td>\n",
       "      <td>1.549586</td>\n",
       "      <td>16824.247836</td>\n",
       "      <td>402.655569</td>\n",
       "    </tr>\n",
       "    <tr>\n",
       "      <th>min</th>\n",
       "      <td>45.000000</td>\n",
       "      <td>2.350000</td>\n",
       "      <td>183.000000</td>\n",
       "      <td>2.030000</td>\n",
       "    </tr>\n",
       "    <tr>\n",
       "      <th>25%</th>\n",
       "      <td>71.000000</td>\n",
       "      <td>5.865000</td>\n",
       "      <td>2500.000000</td>\n",
       "      <td>13.230000</td>\n",
       "    </tr>\n",
       "    <tr>\n",
       "      <th>50%</th>\n",
       "      <td>100.000000</td>\n",
       "      <td>6.600000</td>\n",
       "      <td>6500.000000</td>\n",
       "      <td>21.600000</td>\n",
       "    </tr>\n",
       "    <tr>\n",
       "      <th>75%</th>\n",
       "      <td>174.500000</td>\n",
       "      <td>7.260000</td>\n",
       "      <td>19100.000000</td>\n",
       "      <td>167.310000</td>\n",
       "    </tr>\n",
       "    <tr>\n",
       "      <th>max</th>\n",
       "      <td>293.000000</td>\n",
       "      <td>9.500000</td>\n",
       "      <td>56928.000000</td>\n",
       "      <td>1436.530000</td>\n",
       "    </tr>\n",
       "  </tbody>\n",
       "</table>\n",
       "</div>"
      ],
      "text/plain": [
       "       FlightLength  DailyFlightTime  CustomersServed  TotalAssets\n",
       "count     31.000000        31.000000        31.000000    31.000000\n",
       "mean     129.096774         6.463226     14491.967742   215.310968\n",
       "std       73.212638         1.549586     16824.247836   402.655569\n",
       "min       45.000000         2.350000       183.000000     2.030000\n",
       "25%       71.000000         5.865000      2500.000000    13.230000\n",
       "50%      100.000000         6.600000      6500.000000    21.600000\n",
       "75%      174.500000         7.260000     19100.000000   167.310000\n",
       "max      293.000000         9.500000     56928.000000  1436.530000"
      ]
     },
     "execution_count": 5,
     "metadata": {},
     "output_type": "execute_result"
    }
   ],
   "source": [
    "#general measures of distributions\n",
    "    #note to assess only variables that are numerical or continous\n",
    "    \n",
    "ac.loc[:,['FlightLength', 'DailyFlightTime', 'CustomersServed', 'TotalAssets']].describe()"
   ]
  },
  {
   "cell_type": "code",
   "execution_count": 6,
   "id": "82998b50",
   "metadata": {
    "scrolled": false
   },
   "outputs": [
    {
     "name": "stdout",
     "output_type": "stream",
     "text": [
      "Median flight length, mi = 100.0 \n",
      "Median daily flight time, hrs = 6.6 \n",
      "Median customers served = 6500.0 \n",
      "Median total assets = 21.6\n"
     ]
    }
   ],
   "source": [
    "#determine median of the following variables to assess measure of centralities\n",
    "    #Length of flight in miles\n",
    "    #Daily flight time per plane in hours\n",
    "    #Customers served in 1000s\n",
    "    #Total assets in $100,000s\n",
    "\n",
    "print('Median flight length, mi =', ac['FlightLength'].median(), \n",
    "      '\\nMedian daily flight time, hrs =', ac['DailyFlightTime'].median(),\n",
    "     '\\nMedian customers served =', ac['CustomersServed'].median(),\n",
    "     '\\nMedian total assets =', ac['TotalAssets'].median())\n",
    "\n",
    "#Measure of centrality observations:\n",
    "    #Flight Length = slight positively skewed\n",
    "    #Daily Flight Time = normally distributed\n",
    "    #Customers Served = positively skewed\n",
    "    #Total Assets = positively skewed"
   ]
  },
  {
   "cell_type": "code",
   "execution_count": 7,
   "id": "094a400e",
   "metadata": {
    "scrolled": false
   },
   "outputs": [
    {
     "data": {
      "text/html": [
       "<div>\n",
       "<style scoped>\n",
       "    .dataframe tbody tr th:only-of-type {\n",
       "        vertical-align: middle;\n",
       "    }\n",
       "\n",
       "    .dataframe tbody tr th {\n",
       "        vertical-align: top;\n",
       "    }\n",
       "\n",
       "    .dataframe thead th {\n",
       "        text-align: right;\n",
       "    }\n",
       "</style>\n",
       "<table border=\"1\" class=\"dataframe\">\n",
       "  <thead>\n",
       "    <tr style=\"text-align: right;\">\n",
       "      <th></th>\n",
       "      <th>FlightLength</th>\n",
       "      <th>DailyFlightTime</th>\n",
       "      <th>CustomersServed</th>\n",
       "      <th>TotalAssets</th>\n",
       "    </tr>\n",
       "  </thead>\n",
       "  <tbody>\n",
       "    <tr>\n",
       "      <th>FlightLength</th>\n",
       "      <td>1.000000</td>\n",
       "      <td>0.478035</td>\n",
       "      <td>0.788239</td>\n",
       "      <td>0.806172</td>\n",
       "    </tr>\n",
       "    <tr>\n",
       "      <th>DailyFlightTime</th>\n",
       "      <td>0.478035</td>\n",
       "      <td>1.000000</td>\n",
       "      <td>0.361647</td>\n",
       "      <td>0.275244</td>\n",
       "    </tr>\n",
       "    <tr>\n",
       "      <th>CustomersServed</th>\n",
       "      <td>0.788239</td>\n",
       "      <td>0.361647</td>\n",
       "      <td>1.000000</td>\n",
       "      <td>0.904802</td>\n",
       "    </tr>\n",
       "    <tr>\n",
       "      <th>TotalAssets</th>\n",
       "      <td>0.806172</td>\n",
       "      <td>0.275244</td>\n",
       "      <td>0.904802</td>\n",
       "      <td>1.000000</td>\n",
       "    </tr>\n",
       "  </tbody>\n",
       "</table>\n",
       "</div>"
      ],
      "text/plain": [
       "                 FlightLength  DailyFlightTime  CustomersServed  TotalAssets\n",
       "FlightLength         1.000000         0.478035         0.788239     0.806172\n",
       "DailyFlightTime      0.478035         1.000000         0.361647     0.275244\n",
       "CustomersServed      0.788239         0.361647         1.000000     0.904802\n",
       "TotalAssets          0.806172         0.275244         0.904802     1.000000"
      ]
     },
     "execution_count": 7,
     "metadata": {},
     "output_type": "execute_result"
    }
   ],
   "source": [
    "#determine correlation of variables to each other\n",
    "    #note to assess only variables that are numerical or continous\n",
    "    \n",
    "ac.loc[:,['FlightLength', 'DailyFlightTime', 'CustomersServed', 'TotalAssets']].corr()"
   ]
  },
  {
   "cell_type": "code",
   "execution_count": 8,
   "id": "8aa5f5bb",
   "metadata": {
    "scrolled": false
   },
   "outputs": [
    {
     "data": {
      "text/html": [
       "<table class=\"simpletable\">\n",
       "<caption>OLS Regression Results</caption>\n",
       "<tr>\n",
       "  <th>Dep. Variable:</th>     <td>CustomersServed</td> <th>  R-squared:         </th> <td>   0.622</td>\n",
       "</tr>\n",
       "<tr>\n",
       "  <th>Model:</th>                   <td>OLS</td>       <th>  Adj. R-squared:    </th> <td>   0.595</td>\n",
       "</tr>\n",
       "<tr>\n",
       "  <th>Method:</th>             <td>Least Squares</td>  <th>  F-statistic:       </th> <td>   23.00</td>\n",
       "</tr>\n",
       "<tr>\n",
       "  <th>Date:</th>             <td>Sat, 06 Aug 2022</td> <th>  Prob (F-statistic):</th> <td>1.23e-06</td>\n",
       "</tr>\n",
       "<tr>\n",
       "  <th>Time:</th>                 <td>19:05:15</td>     <th>  Log-Likelihood:    </th> <td> -330.06</td>\n",
       "</tr>\n",
       "<tr>\n",
       "  <th>No. Observations:</th>      <td>    31</td>      <th>  AIC:               </th> <td>   666.1</td>\n",
       "</tr>\n",
       "<tr>\n",
       "  <th>Df Residuals:</th>          <td>    28</td>      <th>  BIC:               </th> <td>   670.4</td>\n",
       "</tr>\n",
       "<tr>\n",
       "  <th>Df Model:</th>              <td>     2</td>      <th>                     </th>     <td> </td>   \n",
       "</tr>\n",
       "<tr>\n",
       "  <th>Covariance Type:</th>      <td>nonrobust</td>    <th>                     </th>     <td> </td>   \n",
       "</tr>\n",
       "</table>\n",
       "<table class=\"simpletable\">\n",
       "<tr>\n",
       "         <td></td>            <th>coef</th>     <th>std err</th>      <th>t</th>      <th>P>|t|</th>  <th>[0.025</th>    <th>0.975]</th>  \n",
       "</tr>\n",
       "<tr>\n",
       "  <th>Intercept</th>       <td>-7792.0706</td> <td> 8396.998</td> <td>   -0.928</td> <td> 0.361</td> <td> -2.5e+04</td> <td> 9408.401</td>\n",
       "</tr>\n",
       "<tr>\n",
       "  <th>FlightLength</th>    <td>  183.2956</td> <td>   30.414</td> <td>    6.027</td> <td> 0.000</td> <td>  120.995</td> <td>  245.596</td>\n",
       "</tr>\n",
       "<tr>\n",
       "  <th>DailyFlightTime</th> <td> -213.3340</td> <td> 1436.955</td> <td>   -0.148</td> <td> 0.883</td> <td>-3156.803</td> <td> 2730.134</td>\n",
       "</tr>\n",
       "</table>\n",
       "<table class=\"simpletable\">\n",
       "<tr>\n",
       "  <th>Omnibus:</th>       <td> 2.469</td> <th>  Durbin-Watson:     </th> <td>   1.894</td>\n",
       "</tr>\n",
       "<tr>\n",
       "  <th>Prob(Omnibus):</th> <td> 0.291</td> <th>  Jarque-Bera (JB):  </th> <td>   1.851</td>\n",
       "</tr>\n",
       "<tr>\n",
       "  <th>Skew:</th>          <td> 0.598</td> <th>  Prob(JB):          </th> <td>   0.396</td>\n",
       "</tr>\n",
       "<tr>\n",
       "  <th>Kurtosis:</th>      <td> 2.931</td> <th>  Cond. No.          </th> <td>    653.</td>\n",
       "</tr>\n",
       "</table><br/><br/>Notes:<br/>[1] Standard Errors assume that the covariance matrix of the errors is correctly specified."
      ],
      "text/plain": [
       "<class 'statsmodels.iolib.summary.Summary'>\n",
       "\"\"\"\n",
       "                            OLS Regression Results                            \n",
       "==============================================================================\n",
       "Dep. Variable:        CustomersServed   R-squared:                       0.622\n",
       "Model:                            OLS   Adj. R-squared:                  0.595\n",
       "Method:                 Least Squares   F-statistic:                     23.00\n",
       "Date:                Sat, 06 Aug 2022   Prob (F-statistic):           1.23e-06\n",
       "Time:                        19:05:15   Log-Likelihood:                -330.06\n",
       "No. Observations:                  31   AIC:                             666.1\n",
       "Df Residuals:                      28   BIC:                             670.4\n",
       "Df Model:                           2                                         \n",
       "Covariance Type:            nonrobust                                         \n",
       "===================================================================================\n",
       "                      coef    std err          t      P>|t|      [0.025      0.975]\n",
       "-----------------------------------------------------------------------------------\n",
       "Intercept       -7792.0706   8396.998     -0.928      0.361    -2.5e+04    9408.401\n",
       "FlightLength      183.2956     30.414      6.027      0.000     120.995     245.596\n",
       "DailyFlightTime  -213.3340   1436.955     -0.148      0.883   -3156.803    2730.134\n",
       "==============================================================================\n",
       "Omnibus:                        2.469   Durbin-Watson:                   1.894\n",
       "Prob(Omnibus):                  0.291   Jarque-Bera (JB):                1.851\n",
       "Skew:                           0.598   Prob(JB):                        0.396\n",
       "Kurtosis:                       2.931   Cond. No.                         653.\n",
       "==============================================================================\n",
       "\n",
       "Notes:\n",
       "[1] Standard Errors assume that the covariance matrix of the errors is correctly specified.\n",
       "\"\"\""
      ]
     },
     "execution_count": 8,
     "metadata": {},
     "output_type": "execute_result"
    }
   ],
   "source": [
    "#Model to predict number of customers by flight length (mi) and dailty flight time per plane (hrs)\n",
    "\n",
    "fd = (smf.ols(formula='CustomersServed ~ FlightLength + DailyFlightTime', data = ac)).fit()\n",
    "fd.summary()\n",
    "\n",
    "#CustomersServed = -7792.07 + 183.30*FlightLength - 213.33*DailyFlightTime"
   ]
  },
  {
   "cell_type": "code",
   "execution_count": 9,
   "id": "b3b44048",
   "metadata": {},
   "outputs": [
    {
     "data": {
      "image/png": "[encoded data removed]",
      "text/plain": [
       "<Figure size 432x288 with 1 Axes>"
      ]
     },
     "metadata": {
      "needs_background": "light"
     },
     "output_type": "display_data"
    }
   ],
   "source": [
    "#Plot Customers Served and Flight Length\n",
    "\n",
    "plt.scatter(ac['FlightLength'],ac['CustomersServed'])\n",
    "plt.title('Flight Length vs Customers Served')\n",
    "plt.xlabel('Flight Length')     \n",
    "plt.ylabel('Customers Served')           \n",
    "plt.show()"
   ]
  },
  {
   "cell_type": "code",
   "execution_count": 10,
   "id": "011319c5",
   "metadata": {},
   "outputs": [
    {
     "data": {
      "image/png": "[encoded data removed]",
      "text/plain": [
       "<Figure size 432x288 with 1 Axes>"
      ]
     },
     "metadata": {
      "needs_background": "light"
     },
     "output_type": "display_data"
    }
   ],
   "source": [
    "#Plot Customers Served and Daily Flight Time\n",
    "\n",
    "plt.scatter(ac['DailyFlightTime'],ac['CustomersServed'])\n",
    "plt.title('Daily Flight Time vs Customers Served')\n",
    "plt.xlabel('Daily Flight Time')     \n",
    "plt.ylabel('Customers Served')           \n",
    "plt.show()"
   ]
  },
  {
   "cell_type": "code",
   "execution_count": 11,
   "id": "68f64c7c",
   "metadata": {
    "scrolled": false
   },
   "outputs": [
    {
     "data": {
      "text/html": [
       "<table class=\"simpletable\">\n",
       "<caption>OLS Regression Results</caption>\n",
       "<tr>\n",
       "  <th>Dep. Variable:</th>       <td>TotalAssets</td>   <th>  R-squared:         </th> <td>   0.819</td>\n",
       "</tr>\n",
       "<tr>\n",
       "  <th>Model:</th>                   <td>OLS</td>       <th>  Adj. R-squared:    </th> <td>   0.812</td>\n",
       "</tr>\n",
       "<tr>\n",
       "  <th>Method:</th>             <td>Least Squares</td>  <th>  F-statistic:       </th> <td>   130.9</td>\n",
       "</tr>\n",
       "<tr>\n",
       "  <th>Date:</th>             <td>Sat, 06 Aug 2022</td> <th>  Prob (F-statistic):</th> <td>2.85e-12</td>\n",
       "</tr>\n",
       "<tr>\n",
       "  <th>Time:</th>                 <td>19:05:19</td>     <th>  Log-Likelihood:    </th> <td> -202.95</td>\n",
       "</tr>\n",
       "<tr>\n",
       "  <th>No. Observations:</th>      <td>    31</td>      <th>  AIC:               </th> <td>   409.9</td>\n",
       "</tr>\n",
       "<tr>\n",
       "  <th>Df Residuals:</th>          <td>    29</td>      <th>  BIC:               </th> <td>   412.8</td>\n",
       "</tr>\n",
       "<tr>\n",
       "  <th>Df Model:</th>              <td>     1</td>      <th>                     </th>     <td> </td>   \n",
       "</tr>\n",
       "<tr>\n",
       "  <th>Covariance Type:</th>      <td>nonrobust</td>    <th>                     </th>     <td> </td>   \n",
       "</tr>\n",
       "</table>\n",
       "<table class=\"simpletable\">\n",
       "<tr>\n",
       "         <td></td>            <th>coef</th>     <th>std err</th>      <th>t</th>      <th>P>|t|</th>  <th>[0.025</th>    <th>0.975]</th>  \n",
       "</tr>\n",
       "<tr>\n",
       "  <th>const</th>           <td>  -98.5080</td> <td>   41.633</td> <td>   -2.366</td> <td> 0.025</td> <td> -183.656</td> <td>  -13.360</td>\n",
       "</tr>\n",
       "<tr>\n",
       "  <th>CustomersServed</th> <td>    0.0217</td> <td>    0.002</td> <td>   11.442</td> <td> 0.000</td> <td>    0.018</td> <td>    0.026</td>\n",
       "</tr>\n",
       "</table>\n",
       "<table class=\"simpletable\">\n",
       "<tr>\n",
       "  <th>Omnibus:</th>       <td>18.279</td> <th>  Durbin-Watson:     </th> <td>   1.745</td>\n",
       "</tr>\n",
       "<tr>\n",
       "  <th>Prob(Omnibus):</th> <td> 0.000</td> <th>  Jarque-Bera (JB):  </th> <td>  24.501</td>\n",
       "</tr>\n",
       "<tr>\n",
       "  <th>Skew:</th>          <td>-1.486</td> <th>  Prob(JB):          </th> <td>4.78e-06</td>\n",
       "</tr>\n",
       "<tr>\n",
       "  <th>Kurtosis:</th>      <td> 6.183</td> <th>  Cond. No.          </th> <td>2.92e+04</td>\n",
       "</tr>\n",
       "</table><br/><br/>Notes:<br/>[1] Standard Errors assume that the covariance matrix of the errors is correctly specified.<br/>[2] The condition number is large, 2.92e+04. This might indicate that there are<br/>strong multicollinearity or other numerical problems."
      ],
      "text/plain": [
       "<class 'statsmodels.iolib.summary.Summary'>\n",
       "\"\"\"\n",
       "                            OLS Regression Results                            \n",
       "==============================================================================\n",
       "Dep. Variable:            TotalAssets   R-squared:                       0.819\n",
       "Model:                            OLS   Adj. R-squared:                  0.812\n",
       "Method:                 Least Squares   F-statistic:                     130.9\n",
       "Date:                Sat, 06 Aug 2022   Prob (F-statistic):           2.85e-12\n",
       "Time:                        19:05:19   Log-Likelihood:                -202.95\n",
       "No. Observations:                  31   AIC:                             409.9\n",
       "Df Residuals:                      29   BIC:                             412.8\n",
       "Df Model:                           1                                         \n",
       "Covariance Type:            nonrobust                                         \n",
       "===================================================================================\n",
       "                      coef    std err          t      P>|t|      [0.025      0.975]\n",
       "-----------------------------------------------------------------------------------\n",
       "const             -98.5080     41.633     -2.366      0.025    -183.656     -13.360\n",
       "CustomersServed     0.0217      0.002     11.442      0.000       0.018       0.026\n",
       "==============================================================================\n",
       "Omnibus:                       18.279   Durbin-Watson:                   1.745\n",
       "Prob(Omnibus):                  0.000   Jarque-Bera (JB):               24.501\n",
       "Skew:                          -1.486   Prob(JB):                     4.78e-06\n",
       "Kurtosis:                       6.183   Cond. No.                     2.92e+04\n",
       "==============================================================================\n",
       "\n",
       "Notes:\n",
       "[1] Standard Errors assume that the covariance matrix of the errors is correctly specified.\n",
       "[2] The condition number is large, 2.92e+04. This might indicate that there are\n",
       "strong multicollinearity or other numerical problems.\n",
       "\"\"\""
      ]
     },
     "execution_count": 11,
     "metadata": {},
     "output_type": "execute_result"
    }
   ],
   "source": [
    "#Model to predict the total assets of an airline from the customers served\n",
    "\n",
    "CS = sm.add_constant(ac['CustomersServed'])\n",
    "tol_a = (sm.OLS(ac['TotalAssets'], CS)).fit()\n",
    "tol_a.summary()\n",
    "\n",
    "#TotalAssets = -98.51 + 0.02*CustomersServed"
   ]
  },
  {
   "cell_type": "code",
   "execution_count": 12,
   "id": "cfa5a21b",
   "metadata": {},
   "outputs": [
    {
     "data": {
      "image/png": "[encoded data removed]",
      "text/plain": [
       "<Figure size 432x288 with 1 Axes>"
      ]
     },
     "metadata": {
      "needs_background": "light"
     },
     "output_type": "display_data"
    }
   ],
   "source": [
    "# Plot Total Assets and Customers Served\n",
    "\n",
    "plt.scatter(ac['CustomersServed'],ac['TotalAssets'])\n",
    "plt.title('Customers Served vs Total Assets')\n",
    "plt.xlabel('Customers Served')     \n",
    "plt.ylabel('Total Assets')           \n",
    "plt.show()"
   ]
  }
 ],
 "metadata": {
  "kernelspec": {
   "display_name": "Python [conda env:root] *",
   "language": "python",
   "name": "conda-root-py"
  },
  "language_info": {
   "codemirror_mode": {
    "name": "ipython",
    "version": 3
   },
   "file_extension": ".py",
   "mimetype": "text/x-python",
   "name": "python",
   "nbconvert_exporter": "python",
   "pygments_lexer": "ipython3",
   "version": "3.8.13"
  }
 },
 "nbformat": 4,
 "nbformat_minor": 5
}
